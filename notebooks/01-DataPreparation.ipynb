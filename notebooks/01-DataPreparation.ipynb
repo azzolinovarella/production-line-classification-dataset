{
  "cells": [
    {
      "cell_type": "markdown",
      "metadata": {
        "id": "VfP0Xpo-BIZ5"
      },
      "source": [
        "# 01 - Preparação dos dados"
      ]
    },
    {
      "cell_type": "markdown",
      "metadata": {
        "id": "gFmapZn_BIZ6"
      },
      "source": [
        "Neste notebook busca-se apenas estruturar o diretório dos dados para treinamento.\n",
        "\n",
        "Como primeiro passo, vamos baixar o arquivo `production-line-classification-dataset.zip` (disponível no [Kaggle](https://www.kaggle.com/datasets/christianvorhemus/industrial-quality-control-of-packages) no diretório atual de trabalho vamos transferi-lo para o diretório `../transfer` dentro do Colab."
      ]
    },
    {
      "cell_type": "code",
      "execution_count": 1,
      "metadata": {
        "colab": {
          "base_uri": "https://localhost:8080/"
        },
        "id": "3Cx6-IM8E_An",
        "outputId": "f84fb848-b3c4-4c63-fe8b-9ad957875730"
      },
      "outputs": [
        {
          "output_type": "stream",
          "name": "stdout",
          "text": [
            "  % Total    % Received % Xferd  Average Speed   Time    Time     Time  Current\n",
            "                                 Dload  Upload   Total   Spent    Left  Speed\n",
            "  0     0    0     0    0     0      0      0 --:--:-- --:--:-- --:--:--     0\n",
            "100  231M  100  231M    0     0  62.1M      0  0:00:03  0:00:03 --:--:-- 78.2M\n"
          ]
        }
      ],
      "source": [
        "! mkdir -p ../transfer\n",
        "! curl -L -o ../transfer/industrial-quality-control-of-packages.zip https://www.kaggle.com/api/v1/datasets/download/christianvorhemus/industrial-quality-control-of-packages\n",
        "! unzip -oq ../transfer/industrial-quality-control-of-packages.zip -d ../transfer/raw-data"
      ]
    },
    {
      "cell_type": "markdown",
      "metadata": {
        "id": "y409TC8GBIZ6"
      },
      "source": [
        "## Importações"
      ]
    },
    {
      "cell_type": "code",
      "execution_count": 2,
      "metadata": {
        "id": "_ez06l4FBIZ6"
      },
      "outputs": [],
      "source": [
        "import os\n",
        "import shutil\n",
        "import glob\n",
        "import numpy as np\n",
        "from google.colab import files"
      ]
    },
    {
      "cell_type": "markdown",
      "metadata": {
        "id": "unBPRhyBBIZ7"
      },
      "source": [
        "## Constantes e sets"
      ]
    },
    {
      "cell_type": "code",
      "execution_count": 3,
      "metadata": {
        "id": "jy6DJ_mLBIZ7"
      },
      "outputs": [],
      "source": [
        "DATA_DIR = '../data'  # Ajustar conforme ambiente de execução\n",
        "SEED = 42  # Para garantir reprodutibilidade\n",
        "TRAIN_PROP = 0.7\n",
        "\n",
        "np.random.seed(SEED)"
      ]
    },
    {
      "cell_type": "markdown",
      "metadata": {
        "id": "dePYMJX7BIZ7"
      },
      "source": [
        "## Scripts"
      ]
    },
    {
      "cell_type": "markdown",
      "metadata": {
        "id": "GnIXdyS9BIZ7"
      },
      "source": [
        "Para garantir que está tudo certo, antes de mais nada vamos limpar (caso exista) os diretórios que serão criados."
      ]
    },
    {
      "cell_type": "code",
      "execution_count": 4,
      "metadata": {
        "id": "JAlhgoUrBIZ7"
      },
      "outputs": [],
      "source": [
        "%%capture\n",
        "\n",
        "! rm -r {DATA_DIR} {DATA_DIR}-tmp"
      ]
    },
    {
      "cell_type": "code",
      "execution_count": 5,
      "metadata": {
        "id": "igvN2nyABIZ8"
      },
      "outputs": [],
      "source": [
        "%%capture\n",
        "\n",
        "! mv ../transfer/raw-data {DATA_DIR}-tmp"
      ]
    },
    {
      "cell_type": "code",
      "execution_count": 6,
      "metadata": {
        "id": "vxZMm7hqDDqk"
      },
      "outputs": [],
      "source": [
        "%%capture\n",
        "\n",
        "! apt update\n",
        "! apt install tree -y"
      ]
    },
    {
      "cell_type": "code",
      "execution_count": 7,
      "metadata": {
        "colab": {
          "base_uri": "https://localhost:8080/"
        },
        "id": "Kpbn1ogGBIZ8",
        "outputId": "101b89f7-0793-4ae9-b40d-805f3188c5d4"
      },
      "outputs": [
        {
          "output_type": "stream",
          "name": "stdout",
          "text": [
            "\u001b[01;34m../data-tmp\u001b[0m\n",
            "├── \u001b[01;34mdamaged\u001b[0m\n",
            "│   ├── \u001b[01;34mside\u001b[0m\n",
            "│   └── \u001b[01;34mtop\u001b[0m\n",
            "└── \u001b[01;34mintact\u001b[0m\n",
            "    ├── \u001b[01;34mside\u001b[0m\n",
            "    └── \u001b[01;34mtop\u001b[0m\n",
            "\n",
            "6 directories, 0 files\n"
          ]
        }
      ],
      "source": [
        "! tree {DATA_DIR}-tmp -aL 2"
      ]
    },
    {
      "cell_type": "code",
      "execution_count": 8,
      "metadata": {
        "colab": {
          "base_uri": "https://localhost:8080/"
        },
        "id": "jx_3TkFitR2V",
        "outputId": "ed5e61ca-6edc-4759-f459-29030a1dc553"
      },
      "outputs": [
        {
          "output_type": "execute_result",
          "data": {
            "text/plain": [
              "280"
            ]
          },
          "metadata": {},
          "execution_count": 8
        }
      ],
      "source": [
        "dmg_ids = [f.split('_')[0] for f in os.listdir(os.path.join(f'{DATA_DIR}-tmp', 'damaged', 'side'))]  # Todos que estão em side estão em top\n",
        "itc_ids = [f.split('_')[0] for f in os.listdir(os.path.join(f'{DATA_DIR}-tmp', 'intact', 'side'))]\n",
        "\n",
        "train_dmg_ids = np.random.choice(dmg_ids, size=int(TRAIN_PROP*len(dmg_ids)), replace=False)\n",
        "train_itc_ids = np.random.choice(itc_ids, size=int(TRAIN_PROP*len(itc_ids)), replace=False)\n",
        "\n",
        "train_dmg_files = [file for dmg_id in train_dmg_ids for file in glob.glob(os.path.join(f'{DATA_DIR}-tmp', f'**/{dmg_id}_*.png'), recursive=True)]\n",
        "train_itc_files = [file for itc_id in train_itc_ids for file in glob.glob(os.path.join(f'{DATA_DIR}-tmp', f'**/{itc_id}_*.png'), recursive=True)]\n",
        "\n",
        "len(train_dmg_files + train_itc_files)"
      ]
    },
    {
      "cell_type": "markdown",
      "metadata": {
        "id": "R3hUyUr_tR2W"
      },
      "source": [
        "Com isso, vamos criar o diretório que vamos de fato armazenar os dados, fazendo a divisão entre treino e teste, junto as classes."
      ]
    },
    {
      "cell_type": "code",
      "execution_count": 9,
      "metadata": {
        "colab": {
          "base_uri": "https://localhost:8080/"
        },
        "id": "cmL3y28-tR2W",
        "outputId": "bf8094d1-1507-40fb-eb82-93b915cd9daa"
      },
      "outputs": [
        {
          "output_type": "execute_result",
          "data": {
            "text/plain": [
              "(280, 120)"
            ]
          },
          "metadata": {},
          "execution_count": 9
        }
      ],
      "source": [
        "os.makedirs(os.path.join(DATA_DIR, 'train'), exist_ok=True)\n",
        "os.makedirs(os.path.join(DATA_DIR, 'train', 'damaged'), exist_ok=True)\n",
        "os.makedirs(os.path.join(DATA_DIR, 'train', 'intact'), exist_ok=True)\n",
        "\n",
        "for file in train_dmg_files:\n",
        "    shutil.move(file, os.path.join(DATA_DIR, 'train', 'damaged'))\n",
        "\n",
        "for file in train_itc_files:\n",
        "    shutil.move(file, os.path.join(DATA_DIR, 'train', 'intact'))\n",
        "\n",
        "os.makedirs(os.path.join(DATA_DIR, 'test'), exist_ok=True)\n",
        "os.makedirs(os.path.join(DATA_DIR, 'test', 'damaged'), exist_ok=True)\n",
        "os.makedirs(os.path.join(DATA_DIR, 'test', 'intact'), exist_ok=True)\n",
        "\n",
        "test_dmg_files = glob.glob(os.path.join(f'{DATA_DIR}-tmp', 'damaged/**/*_*.png'), recursive=True)  # Tudo o que sobrou\n",
        "test_itc_files = glob.glob(os.path.join(f'{DATA_DIR}-tmp', 'intact/**/*_*.png'), recursive=True)\n",
        "\n",
        "for file in test_dmg_files:\n",
        "    shutil.move(file, os.path.join(DATA_DIR, 'test', 'damaged'))\n",
        "\n",
        "for file in test_itc_files:\n",
        "    shutil.move(file, os.path.join(DATA_DIR, 'test', 'intact'))\n",
        "\n",
        "len(glob.glob(os.path.join(DATA_DIR, 'train', '**/*_*.png'), recursive=True)), len(glob.glob(os.path.join(DATA_DIR, 'test', '**/*_*.png'), recursive=True))"
      ]
    },
    {
      "cell_type": "markdown",
      "metadata": {
        "id": "Ii0oKcJWBIaB"
      },
      "source": [
        "Agora vamos remover o diretório temporário e comprimir os dados para utilizá-los em outros notebooks no colab. Os dados serão salvos em `../transfer/data.zip`."
      ]
    },
    {
      "cell_type": "code",
      "execution_count": 10,
      "metadata": {
        "id": "KKn_hZh5BIaB"
      },
      "outputs": [],
      "source": [
        "%%capture\n",
        "\n",
        "! rm -r {DATA_DIR}-tmp\n",
        "! zip -ro ../transfer/data.zip {DATA_DIR}"
      ]
    },
    {
      "cell_type": "markdown",
      "source": [
        "E para facilitar, vamos baixar o arquivo final (caso esteja rodando no Colab)."
      ],
      "metadata": {
        "id": "wwmaCEl4GVM_"
      }
    },
    {
      "cell_type": "code",
      "source": [
        "files.download('../transfer/data.zip')"
      ],
      "metadata": {
        "colab": {
          "base_uri": "https://localhost:8080/",
          "height": 17
        },
        "id": "DU7FQ1urGZ00",
        "outputId": "c21c6a6c-5702-458d-cd09-53c1f28dd2b0"
      },
      "execution_count": 11,
      "outputs": [
        {
          "output_type": "display_data",
          "data": {
            "text/plain": [
              "<IPython.core.display.Javascript object>"
            ],
            "application/javascript": [
              "\n",
              "    async function download(id, filename, size) {\n",
              "      if (!google.colab.kernel.accessAllowed) {\n",
              "        return;\n",
              "      }\n",
              "      const div = document.createElement('div');\n",
              "      const label = document.createElement('label');\n",
              "      label.textContent = `Downloading \"${filename}\": `;\n",
              "      div.appendChild(label);\n",
              "      const progress = document.createElement('progress');\n",
              "      progress.max = size;\n",
              "      div.appendChild(progress);\n",
              "      document.body.appendChild(div);\n",
              "\n",
              "      const buffers = [];\n",
              "      let downloaded = 0;\n",
              "\n",
              "      const channel = await google.colab.kernel.comms.open(id);\n",
              "      // Send a message to notify the kernel that we're ready.\n",
              "      channel.send({})\n",
              "\n",
              "      for await (const message of channel.messages) {\n",
              "        // Send a message to notify the kernel that we're ready.\n",
              "        channel.send({})\n",
              "        if (message.buffers) {\n",
              "          for (const buffer of message.buffers) {\n",
              "            buffers.push(buffer);\n",
              "            downloaded += buffer.byteLength;\n",
              "            progress.value = downloaded;\n",
              "          }\n",
              "        }\n",
              "      }\n",
              "      const blob = new Blob(buffers, {type: 'application/binary'});\n",
              "      const a = document.createElement('a');\n",
              "      a.href = window.URL.createObjectURL(blob);\n",
              "      a.download = filename;\n",
              "      div.appendChild(a);\n",
              "      a.click();\n",
              "      div.remove();\n",
              "    }\n",
              "  "
            ]
          },
          "metadata": {}
        },
        {
          "output_type": "display_data",
          "data": {
            "text/plain": [
              "<IPython.core.display.Javascript object>"
            ],
            "application/javascript": [
              "download(\"download_c403409d-0a26-4263-ab0e-8054cf3101f7\", \"data.zip\", 243042219)"
            ]
          },
          "metadata": {}
        }
      ]
    }
  ],
  "metadata": {
    "colab": {
      "provenance": []
    },
    "kernelspec": {
      "display_name": "abda-env",
      "language": "python",
      "name": "python3"
    },
    "language_info": {
      "codemirror_mode": {
        "name": "ipython",
        "version": 3
      },
      "file_extension": ".py",
      "mimetype": "text/x-python",
      "name": "python",
      "nbconvert_exporter": "python",
      "pygments_lexer": "ipython3",
      "version": "3.11.9"
    }
  },
  "nbformat": 4,
  "nbformat_minor": 0
}